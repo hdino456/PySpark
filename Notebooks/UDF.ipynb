{
 "cells": [
  {
   "cell_type": "code",
   "execution_count": 84,
   "metadata": {},
   "outputs": [],
   "source": [
    "import pyspark.sql.functions as F\n",
    "import pyspark.sql.types as T\n",
    "from pyspark.sql import SparkSession\n",
    "\n",
    "\n",
    "spark = SparkSession.builder.getOrCreate()\n",
    "\n",
    "# fractions = [[x,y] for x in range(10) for y in range(1, 10)]\n",
    "# frac_df = spark.createDataFrame(fractions, [\"numerator\", \"denumerator\"])\n",
    "# frac_df = frac_df.select(F.array(F.col(\"numerator\"), F.col(\"denumerator\")).alias(\"fraction\"))\n",
    "# frac_df.show()"
   ]
  },
  {
   "cell_type": "code",
   "execution_count": 85,
   "metadata": {},
   "outputs": [],
   "source": [
    "# from fractions import Fraction\n",
    "# from typing import Tuple, Optional\n",
    "\n",
    "# Frac = Tuple[int,int]\n",
    "\n",
    "# def py_reduce_fraction(frac: Frac) -> Optional[Frac]:\n",
    "#     num, denum = frac\n",
    "#     if denum:\n",
    "#         answer = Fraction(num, denum)\n",
    "#         return answer.numerator, answer.denominator       \n",
    "#     return False"
   ]
  },
  {
   "cell_type": "code",
   "execution_count": 86,
   "metadata": {},
   "outputs": [],
   "source": [
    "# logs = spark.read.csv(\"../Data/broadcast_logs/BroadcastLogs_2018_Q3_M8_sample.csv\",\n",
    "#                       sep = \"|\",\n",
    "#                       header=True,\n",
    "#                       inferSchema=True,\n",
    "#                       timestampFormat=\"yyyy-MM-dd\")"
   ]
  },
  {
   "cell_type": "code",
   "execution_count": 87,
   "metadata": {},
   "outputs": [],
   "source": [
    "df_titanic = spark.read.csv(\"../Data/titanic.csv\", inferSchema=True, header=True)"
   ]
  },
  {
   "cell_type": "code",
   "execution_count": 88,
   "metadata": {},
   "outputs": [
    {
     "name": "stdout",
     "output_type": "stream",
     "text": [
      "+-----------+--------+------+--------------------+------+----+-----+-----+----------------+-------+-----+--------+\n",
      "|PassengerId|Survived|Pclass|                Name|   Sex| Age|SibSp|Parch|          Ticket|   Fare|Cabin|Embarked|\n",
      "+-----------+--------+------+--------------------+------+----+-----+-----+----------------+-------+-----+--------+\n",
      "|          1|       0|     3|Braund, Mr. Owen ...|  male|22.0|    1|    0|       A/5 21171|   7.25| NULL|       S|\n",
      "|          2|       1|     1|Cumings, Mrs. Joh...|female|38.0|    1|    0|        PC 17599|71.2833|  C85|       C|\n",
      "|          3|       1|     3|Heikkinen, Miss. ...|female|26.0|    0|    0|STON/O2. 3101282|  7.925| NULL|       S|\n",
      "|          4|       1|     1|Futrelle, Mrs. Ja...|female|35.0|    1|    0|          113803|   53.1| C123|       S|\n",
      "|          5|       0|     3|Allen, Mr. Willia...|  male|35.0|    0|    0|          373450|   8.05| NULL|       S|\n",
      "+-----------+--------+------+--------------------+------+----+-----+-----+----------------+-------+-----+--------+\n",
      "only showing top 5 rows\n",
      "\n"
     ]
    }
   ],
   "source": [
    "df_titanic.show(5)"
   ]
  },
  {
   "cell_type": "code",
   "execution_count": 89,
   "metadata": {},
   "outputs": [],
   "source": [
    "def extract_tiltie(name):\n",
    "    return name.split(\", \")[-1].split()[0]\n",
    "\n",
    "def is_common_title(title):\n",
    "    return 1 if title in [\"Miss.\", \"Mr.\", \"Mrs.\", \"Master\"] else 0\n",
    "    \n",
    "def remap_gender(gender):\n",
    "    return 1 if gender == \"male\" else 0\n",
    "\n",
    "@F.udf()\n",
    "def has_cabin(cabin):\n",
    "    return 1 if cabin else 0\n",
    "\n",
    "@F.udf()\n",
    "def replace_missing_age(age):\n",
    "    return age if age else 0"
   ]
  },
  {
   "cell_type": "code",
   "execution_count": 90,
   "metadata": {},
   "outputs": [],
   "source": [
    "extract_tiltie = F.udf(extract_tiltie)\n",
    "is_common_title = F.udf(is_common_title)\n",
    "remap_gender = F.udf(remap_gender)\n",
    "# has_cabin = F.udf(has_cabin)\n",
    "# replace_missing_age = F.udf(replace_missing_age)"
   ]
  },
  {
   "cell_type": "code",
   "execution_count": 91,
   "metadata": {},
   "outputs": [],
   "source": [
    "df_titanic = df_titanic.withColumn(\"extract_tiltie\", extract_tiltie(F.col(\"Name\")))\n",
    "df_titanic = df_titanic.withColumn(\"is_common_title\", is_common_title(F.col(\"extract_tiltie\")))\n",
    "df_titanic = df_titanic.withColumn(\"has_cabin\", has_cabin(F.col(\"Cabin\")))\n",
    "df_titanic = df_titanic.withColumn(\"replace_missing_age\", replace_missing_age(F.col(\"Age\")))"
   ]
  },
  {
   "cell_type": "code",
   "execution_count": 92,
   "metadata": {},
   "outputs": [
    {
     "name": "stdout",
     "output_type": "stream",
     "text": [
      "+-----------+--------+------+--------------------+------+----+-----+-----+----------------+-------+-----+--------+--------------+---------------+---------+-------------------+\n",
      "|PassengerId|Survived|Pclass|                Name|   Sex| Age|SibSp|Parch|          Ticket|   Fare|Cabin|Embarked|extract_tiltie|is_common_title|has_cabin|replace_missing_age|\n",
      "+-----------+--------+------+--------------------+------+----+-----+-----+----------------+-------+-----+--------+--------------+---------------+---------+-------------------+\n",
      "|          1|       0|     3|Braund, Mr. Owen ...|  male|22.0|    1|    0|       A/5 21171|   7.25| NULL|       S|           Mr.|              1|        0|               22.0|\n",
      "|          2|       1|     1|Cumings, Mrs. Joh...|female|38.0|    1|    0|        PC 17599|71.2833|  C85|       C|          Mrs.|              1|        1|               38.0|\n",
      "|          3|       1|     3|Heikkinen, Miss. ...|female|26.0|    0|    0|STON/O2. 3101282|  7.925| NULL|       S|         Miss.|              1|        0|               26.0|\n",
      "|          4|       1|     1|Futrelle, Mrs. Ja...|female|35.0|    1|    0|          113803|   53.1| C123|       S|          Mrs.|              1|        1|               35.0|\n",
      "|          5|       0|     3|Allen, Mr. Willia...|  male|35.0|    0|    0|          373450|   8.05| NULL|       S|           Mr.|              1|        0|               35.0|\n",
      "+-----------+--------+------+--------------------+------+----+-----+-----+----------------+-------+-----+--------+--------------+---------------+---------+-------------------+\n",
      "only showing top 5 rows\n",
      "\n"
     ]
    }
   ],
   "source": [
    "df_titanic.show(5)"
   ]
  }
 ],
 "metadata": {
  "kernelspec": {
   "display_name": "base",
   "language": "python",
   "name": "python3"
  },
  "language_info": {
   "codemirror_mode": {
    "name": "ipython",
    "version": 3
   },
   "file_extension": ".py",
   "mimetype": "text/x-python",
   "name": "python",
   "nbconvert_exporter": "python",
   "pygments_lexer": "ipython3",
   "version": "3.11.7"
  }
 },
 "nbformat": 4,
 "nbformat_minor": 2
}
